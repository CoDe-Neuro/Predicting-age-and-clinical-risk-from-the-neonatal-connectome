{
 "cells": [
  {
   "cell_type": "code",
   "execution_count": 1,
   "metadata": {},
   "outputs": [],
   "source": [
    "import matplotlib.pyplot as plt\n",
    "import numpy as np\n",
    "import pickle\n",
    "import os\n",
    "import scipy.io as scp\n",
    "import copy\n",
    "import random\n",
    "from sklearn.model_selection import StratifiedKFold\n",
    "import scipy"
   ]
  },
  {
   "cell_type": "code",
   "execution_count": 2,
   "metadata": {},
   "outputs": [],
   "source": [
    "Path_to_Connectivity = os.path.abspath('Data/NewStructuralConnectivity.mat')\n",
    "Data = scp.loadmat(Path_to_Connectivity)"
   ]
  },
  {
   "cell_type": "code",
   "execution_count": 17,
   "metadata": {},
   "outputs": [],
   "source": [
    "\n",
    "a_file = open(\"Data/Subject_Dictionary.pkl\", \"rb\")\n",
    "Subject_Dictionary = pickle.load(a_file)"
   ]
  },
  {
   "cell_type": "code",
   "execution_count": 20,
   "metadata": {},
   "outputs": [
    {
     "data": {
      "text/plain": [
       "['CC00056XX07', 'CC00057XX08', 'CC00060XX03', 'CC00061XX04', 'CC00062XX05']"
      ]
     },
     "execution_count": 20,
     "metadata": {},
     "output_type": "execute_result"
    }
   ],
   "source": [
    "list(Subject_Dictionary.keys())[0:5]"
   ]
  },
  {
   "cell_type": "code",
   "execution_count": 22,
   "metadata": {},
   "outputs": [
    {
     "data": {
      "text/plain": [
       "{'GA': 41.14285714,\n",
       " 'PMA': 41.28571429,\n",
       " 'Sex': 2,\n",
       " 'Cognitive Scaled Score': 11.0,\n",
       " 'Receptive Communication': 16.0,\n",
       " 'Expressive Communication': 17.0,\n",
       " 'Fine Motor': 20.0,\n",
       " 'Gross Motor': 16.0,\n",
       " 'Composite Score': 105.0,\n",
       " 'Communication Composite Score': 91.0,\n",
       " 'Motor Composite Score': 100.0,\n",
       " 'IMD': 6008.0,\n",
       " 'IMD Corrected Cognitive Scaled Score': 1.2907153620764102,\n",
       " 'IMD Corrected Receptive Communication': -1.5809748802021026,\n",
       " 'IMD Corrected Expressive Communication': 0.4046978842554516,\n",
       " 'IMD Corrected Fine Motor': -0.2506313242696372,\n",
       " 'IMD Corrected Gross Motor': -1.329209059671335,\n",
       " 'IMD Corrected Composite Score': 6.453576810382046,\n",
       " 'IMD Corrected Communication Composite Score': -3.7522107109891465,\n",
       " 'IMD Corrected Motor Composite Score': -1.0483305078283962}"
      ]
     },
     "execution_count": 22,
     "metadata": {},
     "output_type": "execute_result"
    }
   ],
   "source": [
    "print(Subject_Dictionary['CC00057XX08'])"
   ]
  },
  {
   "cell_type": "code",
   "execution_count": null,
   "metadata": {},
   "outputs": [],
   "source": []
  }
 ],
 "metadata": {
  "kernelspec": {
   "display_name": "Python 3",
   "language": "python",
   "name": "python3"
  },
  "language_info": {
   "codemirror_mode": {
    "name": "ipython",
    "version": 3
   },
   "file_extension": ".py",
   "mimetype": "text/x-python",
   "name": "python",
   "nbconvert_exporter": "python",
   "pygments_lexer": "ipython3",
   "version": "3.7.7"
  }
 },
 "nbformat": 4,
 "nbformat_minor": 4
}
